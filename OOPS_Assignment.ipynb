{
  "nbformat": 4,
  "nbformat_minor": 0,
  "metadata": {
    "colab": {
      "provenance": []
    },
    "kernelspec": {
      "name": "python3",
      "display_name": "Python 3"
    },
    "language_info": {
      "name": "python"
    }
  },
  "cells": [
    {
      "cell_type": "markdown",
      "source": [
        "**1. What is Object-Oriented Programming (OOP)?**\n",
        "\n",
        "Answer :\n",
        "\n",
        "Object-Oriented Programming (OOP) is a programming style where we organize code using objects, which are instances of classes. It focuses on data (attributes) and behaviors (methods) and helps write reusable, structured, and maintainable code.\n",
        "\n",
        "Object-Oriented Programming (OOP) is a programming approach based on the concept of \"objects\", which can contain data and code. These objects are instances of classes, which define their structure and behavior. OOP helps in organizing complex programs by breaking them into reusable and manageable parts. It improves code clarity, modularity, and reusability."
      ],
      "metadata": {
        "id": "qE9ZS-W7JBOK"
      }
    },
    {
      "cell_type": "markdown",
      "source": [
        "**2. What is a class in OOP?**\n",
        "\n",
        "Answer :\n",
        "\n",
        "A class is a blueprint or template for creating objects in Python. It defines the attributes (data) and methods (functions) that the object created from the class will have. Classes allow grouping related variables and functions into a single unit, making the code more organized and easier to maintain.\n",
        "\n",
        "example:\n",
        "```\n",
        "class Car:\n",
        "    def start(self):\n",
        "        print(\"Car is starting\")\n",
        "```\n",
        "\n"
      ],
      "metadata": {
        "id": "0YXdyTn3JBP9"
      }
    },
    {
      "cell_type": "markdown",
      "source": [
        "**3.What is an object in OOP?**\n",
        "\n",
        "Answer:\n",
        "\n",
        "An object is an instance of a class. It has the actual values for the properties defined in the class and can perform actions using the class's methods.\n",
        "\n",
        "Example:\n",
        "```\n",
        "my_car = Car()\n",
        "my_car.start()  \n",
        "```\n",
        "\n"
      ],
      "metadata": {
        "id": "tMBVseZvJBUP"
      }
    },
    {
      "cell_type": "markdown",
      "source": [
        "**4. What is the difference between abstraction and encapsulation?**\n",
        "\n",
        "Answer:\n",
        "\n",
        "Abstraction means hiding unnecessary details and showing only the important parts.\n",
        "(Like using a TV remote – we use buttons without knowing the internal working.)\n",
        "\n",
        "Encapsulation means bundling data and methods into a single unit (class) and controlling access to them using access modifiers like private (_) or public."
      ],
      "metadata": {
        "id": "a4BcyCTYJBVc"
      }
    },
    {
      "cell_type": "markdown",
      "source": [
        "**5.What are dunder methods in Python?**\n",
        "\n",
        "Answer:\n",
        "\n",
        "Dunder methods (also called magic methods) are special methods in Python that start and end with double underscores\n",
        "\n",
        "(e.g., `__init__,__str__, __len__ `). They allow custom behavior for built-in operations like object creation, printing, addition, etc.\n",
        "\n",
        "Example:\n",
        "\n",
        "```\n",
        "def __init__(self, name):\n",
        "    self.name = name\n",
        "\n",
        "```\n",
        "\n",
        "\n"
      ],
      "metadata": {
        "id": "pcdhD9bvJBZ0"
      }
    },
    {
      "cell_type": "markdown",
      "source": [
        "**6. Explain the concept of inheritance in OOP.**\n",
        "\n",
        "Inheritance is an OOP feature that allows a class (child class) to use the properties and methods of another class (parent class). This promotes code reuse and reduces redundancy. The child class can also have its own additional features or override the parent's methods to change behavior.\n",
        "\n",
        "example:\n",
        "\n",
        "```\n",
        "class Animal:\n",
        "    def sound(self):\n",
        "        print(\"Makes sound\")\n",
        "\n",
        "class Dog(Animal):\n",
        "    def bark(self):\n",
        "        print(\"Barks\")\n",
        "```\n",
        "\n",
        "\n",
        "\n"
      ],
      "metadata": {
        "id": "IsKyQTFqJBbB"
      }
    },
    {
      "cell_type": "markdown",
      "source": [
        "**7.What is polymorphism in OOP?**\n",
        "\n",
        "Answer:\n",
        "\n",
        "Polymorphism means \"many forms\". It allows different classes to use the same method name but behave differently. It helps in writing flexible and general code.\n",
        "\n",
        "example:\n",
        "\n",
        "```\n",
        "class Animal:\n",
        "    def speak(self):\n",
        "        print(\"Animal speaks\")\n",
        "\n",
        "class Cat(Animal):\n",
        "    def speak(self):\n",
        "        print(\"Meow\")\n",
        "\n",
        "class Dog(Animal):\n",
        "    def speak(self):\n",
        "        print(\"Bark\")\n",
        "\n",
        "a = Cat()\n",
        "b = Dog()\n",
        "a.speak()\n",
        "b.speak()\n",
        "```\n",
        "\n",
        "\n",
        "\n",
        "\n"
      ],
      "metadata": {
        "id": "v7Vys0uTJBfr"
      }
    },
    {
      "cell_type": "markdown",
      "source": [
        "**8.How is encapsulation achieved in Python?**\n",
        "\n",
        "Answer:\n",
        "\n",
        "Encapsulation in Python is achieved by wrapping the data (variables) and methods (functions) together into a single unit, called a class. It also allows restricting access to certain details using access modifiers like ( _ )protected and ( __ )private. This helps protect the data from being modified directly.\n",
        "\n",
        "example:\n",
        "\n",
        "\n",
        "\n",
        "```\n",
        "class Student:\n",
        "    def __init__(self, name, age):\n",
        "        self.__name = name  # private variable\n",
        "        self.__age = age\n",
        "    def display(self):\n",
        "        print(f\"Name: {self.__name}, Age: {self.__age}\")\n",
        "        ```\n",
        "\n",
        "\n",
        "\n"
      ],
      "metadata": {
        "id": "974BWgxCJBg5"
      }
    },
    {
      "cell_type": "markdown",
      "source": [
        "**9. What is a constructor in Python?**\n",
        "\n",
        "Answer:\n",
        "\n",
        "A constructor in Python is a special method called `__init__() `that is automatically called when a new object of a class is created. It is used to initialize the object's properties or perform any setup required when an object is instantiated.\n",
        "\n",
        "Example:\n",
        "```\n",
        "class Person:\n",
        "    def __init__(self, name):\n",
        "        self.name = name\n",
        "        \n",
        "p = Person(\"Shyam\")\n",
        "print(p.name)\n",
        "```\n",
        "\n",
        "\n",
        "\n",
        "\n",
        "\n"
      ],
      "metadata": {
        "id": "pz7TqehTJBl5"
      }
    },
    {
      "cell_type": "markdown",
      "source": [
        "**10. What are class and static methods in Python?**\n",
        "\n",
        "Answer:\n",
        "\n",
        "A class method is defined using @classmethod and takes cls as its first argument. It can access and modify class-level data.\n",
        "\n",
        "A static method is defined using @staticmethod and does not take self or cls as its first argument. It behaves like a regular function but belongs to the class's namespace.\n",
        "\n",
        "example:\n",
        "\n",
        "\n",
        "```\n",
        "class MyClass:\n",
        "    count = 0\n",
        "    @classmethod\n",
        "    def increase_count(cls):\n",
        "        cls.count += 1\n",
        "\n",
        "    @staticmethod\n",
        "    def greet():\n",
        "        print(\"Hello!\")\n",
        "\n",
        "MyClass.increase_count()\n",
        "print(MyClass.count)\n",
        "MyClass.greet()\n",
        "```\n",
        "output:\n",
        "\n",
        "        1\n",
        "       Hello!\n",
        "\n",
        "\n"
      ],
      "metadata": {
        "id": "riATLSpxJBnP"
      }
    },
    {
      "cell_type": "markdown",
      "source": [
        "**11. What is method overloading in Python?**\n",
        "\n",
        "Answer :\n",
        "\n",
        "Method overloading means having multiple methods in a class with the same name but different parameters. Python does not support true method overloading like other languages, but similar behavior can be achieved using default or variable arguments (*args, **kwargs).\n",
        "\n",
        "example:\n",
        "\n",
        "\n",
        "```\n",
        "class Calculator:\n",
        "    def add(self, a, b=0):\n",
        "        return a + b\n",
        "\n",
        "calc = Calculator()\n",
        "print(calc.add(5))       # One argument\n",
        "print(calc.add(5, 3))    # Two arguments\n",
        "```\n",
        "output:\n",
        "\n",
        "         5\n",
        "         8\n",
        "\n"
      ],
      "metadata": {
        "id": "iXqAwY2zJBqp"
      }
    },
    {
      "cell_type": "markdown",
      "source": [
        "**12.What is method overriding in OOP?**\n",
        "\n",
        "Answer:\n",
        "\n",
        "Method overriding occurs when a subclass provides a specific implementation of a method that is already defined in its parent class. The child class's version of the method replaces the parent's version when called on the subclass object.\n",
        "\n",
        "Example:\n",
        "\n",
        "\n",
        "```\n",
        "class Animal:\n",
        "    def sound(self):\n",
        "        print(\"Some sound\")\n",
        "\n",
        "class Dog(Animal):\n",
        "    def sound(self):\n",
        "        print(\"Bark\")\n",
        "\n",
        "d = Dog()\n",
        "d.sound()\n",
        "```\n",
        "output:\n",
        "       Bark\n"
      ],
      "metadata": {
        "id": "HbD8yS-GJBr4"
      }
    },
    {
      "cell_type": "markdown",
      "source": [
        "**13. What is a property decorator in Python?**\n",
        "\n",
        "Answer:\n",
        "\n",
        "A @property decorator in Python is used to define a method as a read-only attribute. It allows a class method to be accessed like an attribute without calling it, making code cleaner and more readable.\n",
        "\n",
        "example:\n",
        "\n",
        "```class Circle:\n",
        "    def __init__(self, radius):\n",
        "        self._radius = radius\n",
        "\n",
        "    @property\n",
        "    def area(self):\n",
        "        return 3.14 * self._radius ** 2\n",
        "\n",
        "c = Circle(5)\n",
        "print(c.area)\n",
        "\n",
        "```\n",
        "output:78.5\n",
        "\n"
      ],
      "metadata": {
        "id": "BtY94YBCJBx0"
      }
    },
    {
      "cell_type": "markdown",
      "source": [
        "**14. Why is polymorphism important in OOP?**\n",
        "\n",
        "Answer:\n",
        "\n",
        "Polymorphism is important in Object-Oriented Programming (OOP) because it allows objects of different classes to be treated as objects of a common superclass. This makes the code more flexible and reusable.\n",
        "\n",
        "With polymorphism, you can write one function or method that works with different types of objects, reducing duplication and improving readability. It also makes it easier to extend code without modifying existing code.\n",
        "\n"
      ],
      "metadata": {
        "id": "rrG2J4taJBzF"
      }
    },
    {
      "cell_type": "markdown",
      "source": [
        "**15. What is an abstract class in Python?**\n",
        "\n",
        "Answer:\n",
        "\n",
        "An abstract class in Python is a class that cannot be instantiated and is meant to be inherited by other classes. It is defined using the abc module and must contain at least one abstract method, which must be implemented by any subclass.\n",
        "\n",
        "example:\n",
        "\n",
        "\n",
        "\n",
        "```\n",
        "from abc import ABC, abstractmethod\n",
        "\n",
        "# Abstract class\n",
        "class Animal(ABC):\n",
        "    @abstractmethod\n",
        "    def make_sound(self):\n",
        "        pass\n",
        "\n",
        "# Child class\n",
        "class Cat(Animal):\n",
        "    def make_sound(self):\n",
        "        print(\"Meow\")\n",
        "\n",
        "# Create object of child class\n",
        "c = Cat()\n",
        "c.make_sound()\n",
        "```\n",
        "output: Meow\n",
        "    "
      ],
      "metadata": {
        "id": "KZZZp0mgJB3r"
      }
    },
    {
      "cell_type": "markdown",
      "source": [
        "**16. What are the advantages of OOP?**\n",
        "\n",
        "Answer:\n",
        "\n",
        "OOP (Object-Oriented Programming) allows code reusability through inheritance.\n",
        "\n",
        "It helps organize complex code using classes and objects.\n",
        "\n",
        "It enhances code readability, modularity, and maintenance.\n",
        "\n",
        "OOP supports abstraction, encapsulation, polymorphism, and inheritance — all of which improve software design."
      ],
      "metadata": {
        "id": "FU_o01IEJB5E"
      }
    },
    {
      "cell_type": "markdown",
      "source": [
        "**17.What is the difference between a class variable and an instance variable?**\n",
        "\n",
        "Answer:\n",
        "\n",
        "In Python, a class variable is shared by all objects (instances) of a class. It is defined inside the class but outside any method. Changes to a class variable affect all instances.\n",
        "\n",
        "An instance variable is unique to each object. It is defined using self inside a method (usually `__init__`). Changes to an instance variable only affect that particular object.\n",
        "\n",
        "\n",
        "Class Variable: Shared among all instances of the class.\n",
        "Instance Variable: Unique to each object/instance.\n",
        "\n",
        "Example:\n",
        "\n",
        "```\n",
        "class Demo:\n",
        "    class_var = 0  # Class variable\n",
        "\n",
        "    def __init__(self):\n",
        "        self.instance_var = 1  # Instance variable\n",
        "```\n",
        "\n"
      ],
      "metadata": {
        "id": "c4KxEZZkJB9l"
      }
    },
    {
      "cell_type": "markdown",
      "source": [
        "**18. What is multiple inheritance in Python?**\n",
        "\n",
        "Answer:\n",
        "\n",
        "Multiple inheritance is when a class inherits from more than one parent class. This allows the child class to access attributes and methods from multiple base classes.\n",
        "It helps in combining functionalities from different classes into one.\n",
        "\n",
        "example:\n",
        "\n",
        "```\n",
        "class Father:\n",
        "    def show_father(self):\n",
        "        print(\"This is Father\")\n",
        "\n",
        "class Mother:\n",
        "    def show_mother(self):\n",
        "        print(\"This is Mother\")\n",
        "\n",
        "class Child(Father, Mother):\n",
        "    def show_child(self):\n",
        "        print(\"This is Child\")\n",
        "\n",
        "c = Child()\n",
        "c.show_father()   # Output: This is Father\n",
        "c.show_mother()   # Output: This is Mother\n",
        "c.show_child()    # Output: This is Child\n",
        "```\n",
        "\n"
      ],
      "metadata": {
        "id": "KXzzXKSwJB-6"
      }
    },
    {
      "cell_type": "markdown",
      "source": [
        "**19.Explain the purpose of __str__ and __repr__ methods in Python?**\n",
        "\n",
        "Answer:\n",
        "In Python, `__str__` and `__repr__` are special (dunder) methods used to define how objects of a class are represented as strings.\n",
        "\n",
        "` __str__` Method:\n",
        "It is used to define a user-friendly string representation of an object.\n",
        "It is called by the print() function or str().\n",
        "Purpose: To return a readable and nicely formatted string for the end user.\n",
        "\n",
        "`__repr__` Method:\n",
        "It is used to define an unambiguous string representation of an object.\n",
        "It is called by the repr() function or when you type the object name directly in the interpreter.\n",
        "Purpose: To return a developer-friendly string that can be used to recreate the object.   \n",
        "\n",
        "example:\n",
        "```\n",
        "class Book:\n",
        "    def __init__(self, title):\n",
        "        self.title = title\n",
        "\n",
        "    def __str__(self):\n",
        "        return f\"Book: {self.title}\"\n",
        "\n",
        "    def __repr__(self):\n",
        "        return f\"Book('{self.title}')\"\n",
        "\n",
        "b = Book(\"Python\")\n",
        "print(str(b))  \n",
        "print(repr(b))  \n",
        "\n",
        "```\n",
        "output:\n",
        "          \n",
        "          Book: Python\n",
        "          Book('Python')\n",
        "\n"
      ],
      "metadata": {
        "id": "SOT1QKlOJCDY"
      }
    },
    {
      "cell_type": "markdown",
      "source": [
        "**20. What is the significance of the super() function in Python?**\n",
        "\n",
        "Answer:\n",
        "\n",
        "The super() function in Python is used to call methods from a parent (or superclass) in a child (or subclass). It is especially useful in inheritance, allowing the child class to access the parent class's methods without referring to the parent class by name.\n",
        "The super() function is used to call a method from the parent class in the child class. It helps reuse code and avoid repeating the parent's method in the child.\n",
        "\n",
        "\n",
        "example:\n",
        "```class Animal:\n",
        "    def speak(self):\n",
        "        print(\"Animal speaks\")\n",
        "\n",
        "class Dog(Animal):\n",
        "    def speak(self):\n",
        "        super().speak()      # Call parent class method\n",
        "        print(\"Dog barks\")   #child class method\n",
        "\n",
        "d = Dog()\n",
        "d.speak()\n",
        "\n",
        "```\n",
        "output:\n",
        "       \n",
        "        Animal speaks  \n",
        "        Dog barks\n"
      ],
      "metadata": {
        "id": "at2VFFwBJCEu"
      }
    },
    {
      "cell_type": "markdown",
      "source": [
        "**21.What is the significance of the __del__ method in Python**\n",
        "\n",
        "Answer:\n",
        "\n",
        "The `__del__` method is a destructor in Python. It is called automatically when an object is about to be destroyed\n",
        "(i.e., garbage collected). It is used to perform clean-up operations like closing files, releasing memory, or database connections.\n",
        "\n",
        "example:\n",
        "```\n",
        "class File:\n",
        "    def __del__(self):\n",
        "        print(\"File object deleted\")\n",
        "\n",
        "f = File()\n",
        "del f    # Manually deleting the object\n",
        "```\n",
        "output:\n",
        "        \n",
        "        File object deleted\n",
        "\n",
        "\n",
        "\n",
        "\n"
      ],
      "metadata": {
        "id": "2ivVKRNY5gvo"
      }
    },
    {
      "cell_type": "markdown",
      "source": [
        "**22.Difference Between @staticmethod and @classmethod in Python:**\n",
        "\n",
        "Answer:\n",
        "\n",
        "@staticmethod is used when a method does not need access to the class (cls) or the instance (self). It behaves like a regular function but lives inside a class. It does not change or access class or instance variables.\n",
        "\n",
        "@classmethod is used when a method needs access to the class itself, not the instance. It takes cls as the first argument, which refers to the class, and can be used to modify or access class-level data.\n",
        "\n",
        "example:\n",
        "\n",
        "\n",
        "```\n",
        "class Example:\n",
        "    count = 0\n",
        "\n",
        "    @staticmethod\n",
        "    def greet():\n",
        "        print(\"Hello from static method!\")\n",
        "\n",
        "    @classmethod\n",
        "    def show_count(cls):\n",
        "        print(f\"Count is: {cls.count}\")\n",
        "           \n",
        "  Example.greet()    # Output: Hello from static method!\n",
        "  Example.show_count()  # Output: Count is: 0\n",
        "\n",
        "\n",
        "```\n",
        "          \n",
        "\n",
        "\n",
        "\n"
      ],
      "metadata": {
        "id": "ZT9X_xoQ5gxa"
      }
    },
    {
      "cell_type": "markdown",
      "source": [
        "**23. How does polymorphism work in Python with inheritance?**\n",
        "\n",
        "Answer :\n",
        "\n",
        "Polymorphism allows objects of different classes to be treated as objects of a common base class. In inheritance, child classes can override methods of the parent class, and the correct method is called based on the object’s type at runtime.\n",
        "\n",
        "example:\n",
        "\n",
        "```\n",
        "class Shape:\n",
        "    def draw(self):\n",
        "        print(\"Drawing a shape\")\n",
        "\n",
        "class Circle(Shape):\n",
        "    def draw(self):\n",
        "        print(\"Drawing a circle\")\n",
        "\n",
        "class Square(Shape):\n",
        "    def draw(self):\n",
        "        print(\"Drawing a square\")\n",
        "\n",
        "# Polymorphism in action\n",
        "for s in [Circle(), Square()]:\n",
        "    s.draw()\n",
        "\n",
        "```\n",
        "output:\n",
        "\n",
        "       Drawing a circle  \n",
        "       Drawing a square\n",
        "\n",
        "\n",
        "\n",
        "\n",
        "\n"
      ],
      "metadata": {
        "id": "okcXKYeY5g1Z"
      }
    },
    {
      "cell_type": "markdown",
      "source": [
        "**24. What is method chaining in Python OOP?**\n",
        "\n",
        "Answer:\n",
        "\n",
        "Method chaining is a technique where multiple methods are called on the same object in a single line. Each method returns the object itself (self) to allow the chain to continue.\n",
        "example:\n",
        "\n",
        "```\n",
        "class Person:\n",
        "    def greet(self):\n",
        "        print(\"Hello\")\n",
        "        return self #it will print Hello\n",
        "\n",
        "    def bye(self):\n",
        "        print(\"Goodbye\") #it will print Goodbye\n",
        "        return self\n",
        "\n",
        "p = Person()\n",
        "p.greet().bye() #first it will print Hello then Goodbye\n",
        "```\n",
        "output:\n",
        "          \n",
        "          Hello\n",
        "          Goodbye\n",
        "\n",
        "\n"
      ],
      "metadata": {
        "id": "aqj6R6v85g3x"
      }
    },
    {
      "cell_type": "markdown",
      "source": [
        "**25. What is the purpose of the __call__ method in Python?**\n",
        "\n",
        "Answer:\n",
        "\n",
        "The `__call__` method allows an object to be called like a regular function. If a class defines` __call__`, then its instances can be invoked using parentheses.\n",
        "example:\n",
        "\n",
        "\n",
        "```\n",
        "class Printer:\n",
        "    def __call__(self, msg):\n",
        "        print(f\"Message: {msg}\")\n",
        "\n",
        "p = Printer()\n",
        "p(\"Hello World!\")  # Calls __call__()\n",
        "```\n",
        "output:\n",
        "       \n",
        "       Message: Hello World!\n",
        "\n",
        "\n",
        "\n"
      ],
      "metadata": {
        "id": "zt47khP75g68"
      }
    },
    {
      "cell_type": "code",
      "source": [
        "#practical question\n",
        "#1.Create a parent class Animal with a method speak() that prints a generic message. Create a child class Dog\n",
        "#that overrides the speak() method to print \"Bark!\".\n",
        "\n",
        "class Animal:\n",
        "   def speak(self):\n",
        "    print(\"Generic message\")\n",
        "\n",
        "class Dog(Animal):\n",
        "   def speak(self):\n",
        "    print(\"Bark!\")\n",
        "\n",
        "animal=Animal()\n",
        "dog=Dog()\n",
        "animal.speak()\n",
        "dog.speak()"
      ],
      "metadata": {
        "id": "DZ_AuPsj39nH",
        "colab": {
          "base_uri": "https://localhost:8080/"
        },
        "outputId": "9f38e94a-3990-4be7-8aa0-2c5b8ca25b0f"
      },
      "execution_count": 3,
      "outputs": [
        {
          "output_type": "stream",
          "name": "stdout",
          "text": [
            "Generic message\n",
            "Bark!\n"
          ]
        }
      ]
    },
    {
      "cell_type": "code",
      "source": [
        "#2.Write a program to create an abstract class Shape with a method area().\n",
        "#Derive classes Circle and Rectangle from it and implement the area() method in both.\n",
        "\n",
        "class Shape:\n",
        "   def area(self):\n",
        "    pass\n",
        "class Circle(Shape):\n",
        "   def area(self,radius):\n",
        "    return 3.14*radius*radius\n",
        "class Rectangle(Shape):\n",
        "   def area(self,length,width):\n",
        "    return length*width\n",
        "\n",
        "circ=Circle()\n",
        "rect=Rectangle()\n",
        "print(circ.area(5))\n",
        "print(rect.area(5,10))"
      ],
      "metadata": {
        "id": "L6Ia-5mo39il",
        "colab": {
          "base_uri": "https://localhost:8080/"
        },
        "outputId": "3502f4d8-63f3-4767-ba29-c0d9c9c2c73d"
      },
      "execution_count": 6,
      "outputs": [
        {
          "output_type": "stream",
          "name": "stdout",
          "text": [
            "78.5\n",
            "50\n"
          ]
        }
      ]
    },
    {
      "cell_type": "code",
      "source": [
        "#3.Implement a multi-level inheritance scenario where a class Vehicle has an attribute type.\n",
        "# Derive a class Car and further derive a class ElectricCar that adds a battery attribute.\n",
        "\n",
        "class Vehicle:\n",
        "    def __init__(self, type):\n",
        "        self.type = type\n",
        "\n",
        "class Car(Vehicle):\n",
        "    def __init__(self, type, color):\n",
        "        super().__init__(type)\n",
        "        self.color = color\n",
        "\n",
        "class ElectricCar(Car):\n",
        "    def __init__(self, type, color, battery):\n",
        "        super().__init__(type, color)\n",
        "        self.battery = battery\n",
        "\n",
        "car = ElectricCar(\"Car\", \"Red\", \"100 kWh\")\n",
        "\n",
        "print(car.type)\n",
        "print(car.color)\n",
        "print(car.battery)\n"
      ],
      "metadata": {
        "id": "WADGlakx39g8",
        "colab": {
          "base_uri": "https://localhost:8080/"
        },
        "outputId": "50bbd43c-b809-449f-9cab-79b9227d73b5"
      },
      "execution_count": 8,
      "outputs": [
        {
          "output_type": "stream",
          "name": "stdout",
          "text": [
            "Car\n",
            "Red\n",
            "100 kWh\n"
          ]
        }
      ]
    },
    {
      "cell_type": "code",
      "source": [
        "#4.Demonstrate polymorphism by creating a base class Bird with a method fly().\n",
        "#Create two derived classes Sparrow and Penguin that override the fly() method.\n",
        "\n",
        "class Bird:\n",
        "  def fly(self):\n",
        "    print(\"Birds can fly\")\n",
        "class Sparrow(Bird):\n",
        "  def fly(self):\n",
        "    print(\"Sparrows too can fly \")\n",
        "class Penguin(Bird):\n",
        "  def fly(self):\n",
        "    print(\"Penguins cannot fly\")\n",
        "\n",
        "bird=Bird()\n",
        "sparrow=Sparrow()\n",
        "penguin=Penguin()\n",
        "\n",
        "bird.fly()\n",
        "sparrow.fly()\n",
        "penguin.fly()"
      ],
      "metadata": {
        "id": "9GjL_Lw139c4",
        "colab": {
          "base_uri": "https://localhost:8080/"
        },
        "outputId": "10f92cd0-6c15-41f8-dc98-1d6c403f139f"
      },
      "execution_count": 9,
      "outputs": [
        {
          "output_type": "stream",
          "name": "stdout",
          "text": [
            "Birds can fly\n",
            "Sparrows too can fly \n",
            "Penguins cannot fly\n"
          ]
        }
      ]
    },
    {
      "cell_type": "code",
      "source": [
        "#5.Write a program to demonstrate encapsulation by creating a class BankAccount\n",
        "#with private attributes balance and methods to deposit, withdraw, and check balance.\n",
        "\n",
        "class BankAccount:\n",
        "  def __init__(self,balance):\n",
        "    self.__balance=balance\n",
        "\n",
        "  def deposit(self,amount):\n",
        "    self.__balance+=amount\n",
        "    print(f\"Deposited {amount}. New balance is {self.__balance}\")\n",
        "\n",
        "  def withdraw(self,amount):\n",
        "    if amount<=self.__balance:\n",
        "      self.__balance-=amount\n",
        "      print(f\"Withdrew {amount}. New balance is {self.__balance}\")\n",
        "\n",
        "    else:\n",
        "      print(\"Insufficient balance\")\n",
        "\n",
        "  def check_balance(self):\n",
        "    print(f\"Current balance is {self.__balance}\")\n",
        "\n",
        "\n",
        "\n",
        "\n",
        "account=BankAccount(1000)\n",
        "account.deposit(500)\n",
        "account.withdraw(200)\n",
        "account.check_balance()\n"
      ],
      "metadata": {
        "id": "cNu_dEQI39bW",
        "colab": {
          "base_uri": "https://localhost:8080/"
        },
        "outputId": "ac196851-05d0-43d5-8d3a-ab0936dde3fe"
      },
      "execution_count": 14,
      "outputs": [
        {
          "output_type": "stream",
          "name": "stdout",
          "text": [
            "Deposited 500. New balance is 1500\n",
            "Withdrew 200. New balance is 1300\n",
            "Current balance is 1300\n"
          ]
        }
      ]
    },
    {
      "cell_type": "code",
      "source": [
        "#6.Demonstrate runtime polymorphism using a method play() in a base class Instrument.\n",
        "#Derive classes Guitar and Piano that implement their own version of play().\n",
        "\n",
        "class Instrument:\n",
        "  def play(self):\n",
        "    print(\"Instruments are playing\")\n",
        "\n",
        "class Guitar(Instrument):\n",
        "  def play(self):\n",
        "   print(\"Guitar is playing\")\n",
        "\n",
        "class Piano(Instrument):\n",
        "  def play(self):\n",
        "    print(\"Piano is playing\")\n",
        "\n",
        "instrument=Instrument()\n",
        "guitar=Guitar()\n",
        "piano=Piano()\n",
        "\n",
        "instrument.play()\n",
        "guitar.play()\n",
        "piano.play()"
      ],
      "metadata": {
        "id": "4QnDh6ye39Wf",
        "colab": {
          "base_uri": "https://localhost:8080/"
        },
        "outputId": "20e64bf9-6791-4e9d-8f38-6430552b0f77"
      },
      "execution_count": 15,
      "outputs": [
        {
          "output_type": "stream",
          "name": "stdout",
          "text": [
            "Instruments are playing\n",
            "Guitar is playing\n",
            "Piano is playing\n"
          ]
        }
      ]
    },
    {
      "cell_type": "code",
      "source": [
        "#7.Create a class MathOperations with a class method add_numbers() to add two\n",
        "#numbers and a static method subtract_numbers() to subtract two numbers.\n",
        "\n",
        "class MathOperations:\n",
        "    @classmethod\n",
        "    def add_numbers(cls,a,b):\n",
        "          return a+b\n",
        "    @staticmethod\n",
        "    def subtract_numbers(a,b):\n",
        "          return a-b\n",
        "\n",
        "print(\"Addition:\",MathOperations.add_numbers(5,6))\n",
        "print(\"Subtraction:\",MathOperations.subtract_numbers(10,5))"
      ],
      "metadata": {
        "id": "eCbOtLQ739VH",
        "colab": {
          "base_uri": "https://localhost:8080/"
        },
        "outputId": "feeb1d14-8d1e-4d37-8e55-11649160c2ef"
      },
      "execution_count": 16,
      "outputs": [
        {
          "output_type": "stream",
          "name": "stdout",
          "text": [
            "Addition: 11\n",
            "Subtraction: 5\n"
          ]
        }
      ]
    },
    {
      "cell_type": "code",
      "source": [
        "#8.Implement a class Person with a class method to count the total number of persons created.\n",
        "class Person:\n",
        "    count = 0\n",
        "\n",
        "    def __init__(self, name):\n",
        "        self.name = name\n",
        "        Person.count += 1\n",
        "\n",
        "    @classmethod\n",
        "    def total_number_of_person(cls):\n",
        "        return cls.count\n",
        "\n",
        "\n",
        "p1 = Person(\"Alice\")\n",
        "p2 = Person(\"Butler\")\n",
        "p3 = Person(\"Charlie\")\n",
        "\n",
        "print(\"Total persons created:\", Person.total_number_of_person())\n"
      ],
      "metadata": {
        "colab": {
          "base_uri": "https://localhost:8080/"
        },
        "id": "fpOHJMyq4UoC",
        "outputId": "5d02b17b-7a96-4c15-d440-ac0073cac36d"
      },
      "execution_count": 17,
      "outputs": [
        {
          "output_type": "stream",
          "name": "stdout",
          "text": [
            "Total persons created: 3\n"
          ]
        }
      ]
    },
    {
      "cell_type": "code",
      "source": [
        "#9.Write a class Fraction with attributes numerator and denominator.\n",
        "#Override the str method to display the fraction as \"numerator/denominator\".\n",
        "\n",
        "class Fraction:\n",
        "  def __init__(self,numerator,denominator):\n",
        "    self.numerator=numerator\n",
        "    self.denominator=denominator\n",
        "\n",
        "  def __str__(self):\n",
        "    return f\"{self.numerator}/{self.denominator}\"\n",
        "\n",
        "fraction=Fraction(3,4)\n",
        "print(fraction)\n",
        "\n",
        "\n",
        "\n",
        "\n",
        "\n"
      ],
      "metadata": {
        "colab": {
          "base_uri": "https://localhost:8080/"
        },
        "id": "QyA37zad4Umm",
        "outputId": "670a2006-af46-4d9a-e531-efcc2bc6d9e9"
      },
      "execution_count": 18,
      "outputs": [
        {
          "output_type": "stream",
          "name": "stdout",
          "text": [
            "3/4\n"
          ]
        }
      ]
    },
    {
      "cell_type": "code",
      "source": [
        "#10.Demonstrate operator overloading by creating a class Vector and overriding\n",
        "#the add method to add two vectors.\n",
        "\n",
        "class Point:\n",
        "    def __init__(self, x, y):\n",
        "        self.x = x\n",
        "        self.y = y\n",
        "\n",
        "    def __add__(self, other):\n",
        "        return Point(self.x + other.x, self.y + other.y)\n",
        "\n",
        "    def __str__(self):\n",
        "        return f\"({self.x}, {self.y})\"\n",
        "\n",
        "p1 = Point(2, 3)\n",
        "p2 = Point(4, 5)\n",
        "\n",
        "p3 = p1 + p2\n",
        "print(p3)\n",
        "\n",
        "\n"
      ],
      "metadata": {
        "colab": {
          "base_uri": "https://localhost:8080/"
        },
        "id": "hRX2eyc_9T_P",
        "outputId": "eab898a0-3333-4b42-b1c3-8601950dc19b"
      },
      "execution_count": 20,
      "outputs": [
        {
          "output_type": "stream",
          "name": "stdout",
          "text": [
            "(6, 8)\n"
          ]
        }
      ]
    },
    {
      "cell_type": "code",
      "source": [
        "#11.Create a class Person with attributes name and age. Add a method greet() that\n",
        "#prints \"Hello, my name is{name} and I am {age} years old.\"\n",
        "\n",
        "class Person:\n",
        "  def __init__(self,name,age):\n",
        "    self.name=name\n",
        "    self.age=age\n",
        "  def greet(self):\n",
        "    print(f\"Hello, my name is {self.name} and I am {self.age} years old.\")\n",
        "\n",
        "obj1=Person(\"shyam\",21)\n",
        "\n",
        "obj1.greet()"
      ],
      "metadata": {
        "colab": {
          "base_uri": "https://localhost:8080/"
        },
        "id": "hzUXeZzC9UAl",
        "outputId": "795d5df9-d484-4544-9c68-f4dd9f003624"
      },
      "execution_count": 23,
      "outputs": [
        {
          "output_type": "stream",
          "name": "stdout",
          "text": [
            "Hello, my name is shyam and I am 21 years old.\n"
          ]
        }
      ]
    },
    {
      "cell_type": "code",
      "source": [
        "#12.Implement a class Student with attributes name and grades.\n",
        "#Create a method average_grade() to compute the average of the grades.\n",
        "\n",
        "class Student:\n",
        "    def __init__(self, name, grades):\n",
        "        self.name = name\n",
        "        self.grades = grades\n",
        "\n",
        "    def average_grade(self):\n",
        "        return sum(self.grades) / len(self.grades)\n",
        "\n",
        "\n",
        "student1 = Student(\"Ravi\", [80, 90, 85])\n",
        "print(f\"{student1.name}'s average grade is: {student1.average_grade()}\")\n",
        "\n",
        "\n",
        "\n",
        "\n"
      ],
      "metadata": {
        "colab": {
          "base_uri": "https://localhost:8080/"
        },
        "id": "9wnmUIKx9UFQ",
        "outputId": "227d919b-d6da-4a21-a70d-e52830a1d894"
      },
      "execution_count": 25,
      "outputs": [
        {
          "output_type": "stream",
          "name": "stdout",
          "text": [
            "Ravi's average grade is: 85.0\n"
          ]
        }
      ]
    },
    {
      "cell_type": "code",
      "source": [
        "#13.Create a class Rectangle with methods set_dimensions() to set\n",
        "#the dimensions and area() to calculate the area.\n",
        "\n",
        "class Rectangle:\n",
        "  def __init__(self,length,width):\n",
        "     self.length=length\n",
        "     self.width=width\n",
        "\n",
        "  def set_dimensions(self,length,width):\n",
        "      self.length=length\n",
        "      self.width=width\n",
        "\n",
        "  def area(self):\n",
        "    return self.length*self.width\n",
        "\n",
        "obj2=Rectangle(5,6)\n",
        "obj2.area\n",
        "print(obj2.area())\n",
        "\n",
        "\n",
        "\n"
      ],
      "metadata": {
        "colab": {
          "base_uri": "https://localhost:8080/"
        },
        "id": "ipUtTTPK9UGh",
        "outputId": "bf8bd54b-d59c-4aa2-dd84-b45e820d8e2b"
      },
      "execution_count": 27,
      "outputs": [
        {
          "output_type": "stream",
          "name": "stdout",
          "text": [
            "30\n"
          ]
        }
      ]
    },
    {
      "cell_type": "code",
      "source": [
        "#14.Create a class Employee with a method calculate_salary() that computes the\n",
        "#salary based on hours worked and hourly rate. Create a derived class Manager that adds a bonus to the salary\n",
        "\n",
        "class Employee:\n",
        "    def __init__(self, name, hours_worked, hourly_rate):\n",
        "        self.name = name\n",
        "        self.hours_worked = hours_worked\n",
        "        self.hourly_rate = hourly_rate\n",
        "\n",
        "    def calculate_salary(self):\n",
        "        return self.hours_worked * self.hourly_rate\n",
        "\n",
        "class Manager(Employee):\n",
        "    def __init__(self, name, hours_worked, hourly_rate, bonus):\n",
        "        super().__init__(name, hours_worked, hourly_rate)\n",
        "        self.bonus = bonus\n",
        "\n",
        "    def calculate_salary(self):\n",
        "        return super().calculate_salary() + self.bonus\n",
        "\n",
        "\n",
        "emp = Employee(\"John\", 40, 100)\n",
        "print(f\"Employee Salary: {emp.calculate_salary()}\")\n",
        "\n",
        "mgr = Manager(\"Alice\", 40, 100, 2000)\n",
        "print(f\"Manager Salary: {mgr.calculate_salary()}\")\n",
        "\n",
        "\n",
        "\n",
        "\n",
        "\n",
        "\n",
        "\n",
        "\n"
      ],
      "metadata": {
        "colab": {
          "base_uri": "https://localhost:8080/"
        },
        "id": "brEh5DTU9ULq",
        "outputId": "257469d5-b8ed-4f6a-bd3c-29f7729df745"
      },
      "execution_count": 28,
      "outputs": [
        {
          "output_type": "stream",
          "name": "stdout",
          "text": [
            "Employee Salary: 4000\n",
            "Manager Salary: 6000\n"
          ]
        }
      ]
    },
    {
      "cell_type": "code",
      "source": [
        "#15.Create a class Product with attributes name, price, and quantity.\n",
        "#Implement a method total_price() that calculates the total price of the product\n",
        "\n",
        "class product:\n",
        "  def __init__(self,name,price,quantity):\n",
        "    self.name=name\n",
        "    self.price=price\n",
        "    self.quantity=quantity\n",
        "  def total_price(self):\n",
        "      return self.price*self.quantity\n",
        "item=product(\"pen\",5,10)\n",
        "print(item.total_price())"
      ],
      "metadata": {
        "colab": {
          "base_uri": "https://localhost:8080/"
        },
        "id": "DsbdTeTM9UNB",
        "outputId": "96e3c086-1d92-4c4e-9d44-cb519734dddd"
      },
      "execution_count": 30,
      "outputs": [
        {
          "output_type": "stream",
          "name": "stdout",
          "text": [
            "50\n"
          ]
        }
      ]
    },
    {
      "cell_type": "code",
      "source": [
        "#16.Create a class Animal with an abstract method sound(). Create two derived\n",
        "#classes Cow and Sheep that implement the sound() method.\n",
        "\n",
        "from abc import ABC, abstractmethod\n",
        "\n",
        "class Animal(ABC):\n",
        "    @abstractmethod\n",
        "    def sound(self):\n",
        "        pass\n",
        "\n",
        "class Cow(Animal):\n",
        "    def sound(self):\n",
        "        print(\"moo\")\n",
        "\n",
        "class Sheep(Animal):\n",
        "    def sound(self):\n",
        "        print(\"baaa\")\n",
        "\n",
        "cow = Cow()\n",
        "sheep = Sheep()\n",
        "\n",
        "cow.sound()\n",
        "sheep.sound()\n"
      ],
      "metadata": {
        "colab": {
          "base_uri": "https://localhost:8080/"
        },
        "id": "J8TiIY5H9UYa",
        "outputId": "d086f4ad-b155-447e-d1d3-011e6ebfdb7b"
      },
      "execution_count": 32,
      "outputs": [
        {
          "output_type": "stream",
          "name": "stdout",
          "text": [
            "moo\n",
            "baaa\n"
          ]
        }
      ]
    },
    {
      "cell_type": "code",
      "source": [
        "#17.Create a class Book with attributes title, author, and year_published. Add\n",
        "#a method get_book_info() that returns a formatted string with the book's details.\n",
        "\n",
        "class Book:\n",
        "  def __init__(self,title,author,year_published):\n",
        "    self.title=title\n",
        "    self.author=author\n",
        "    self.year_published=year_published\n",
        "\n",
        "  def get_book_info(self):\n",
        "    return f\"Title: {self.title}\\nAuthor: {self.author}\\nYear Published: {self.year_published}\"\n",
        "\n",
        "book=Book(\"Drishti\",\"shivansh\",1905)\n",
        "print(book.get_book_info())"
      ],
      "metadata": {
        "colab": {
          "base_uri": "https://localhost:8080/"
        },
        "id": "fWW9w5IO9UaO",
        "outputId": "deaf07b7-fb31-49c7-dfce-f37ca83bad59"
      },
      "execution_count": 33,
      "outputs": [
        {
          "output_type": "stream",
          "name": "stdout",
          "text": [
            "Title: Drishti\n",
            "Author: shivansh\n",
            "Year Published: 1905\n"
          ]
        }
      ]
    },
    {
      "cell_type": "code",
      "source": [
        "#18.Create a class House with attributes address and price. Create a derived\n",
        "#class Mansion that adds an attribute number_of_rooms.\n",
        "\n",
        "class House:\n",
        "  def __init__(self,address,price):\n",
        "    self.address=address\n",
        "    self.price=price\n",
        "\n",
        "class Mansion(House):\n",
        "  def __init__(self,address,price,number_of_rooms):\n",
        "    super().__init__(address,price)\n",
        "    self.number_of_rooms=number_of_rooms\n",
        "\n",
        "m = Mansion(\"123 Palace Road\", 50000000, 10)\n",
        "\n",
        "print(\"Address:\", m.address)\n",
        "print(\"Price:\", m.price)\n",
        "print(\"Number of Rooms:\", m.number_of_rooms)\n",
        "\n",
        "\n",
        "\n"
      ],
      "metadata": {
        "colab": {
          "base_uri": "https://localhost:8080/"
        },
        "id": "3wX90Lr59Ueb",
        "outputId": "80df7527-b14b-45df-e700-bff20067c21f"
      },
      "execution_count": 34,
      "outputs": [
        {
          "output_type": "stream",
          "name": "stdout",
          "text": [
            "Address: 123 Palace Road\n",
            "Price: 50000000\n",
            "Number of Rooms: 10\n"
          ]
        }
      ]
    }
  ]
}